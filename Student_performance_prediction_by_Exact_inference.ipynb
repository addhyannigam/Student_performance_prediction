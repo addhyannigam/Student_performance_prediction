{
  "nbformat": 4,
  "nbformat_minor": 0,
  "metadata": {
    "colab": {
      "provenance": [],
      "authorship_tag": "ABX9TyOAEtqM9RSx5Zzn1PohFCLr",
      "include_colab_link": true
    },
    "kernelspec": {
      "name": "python3",
      "display_name": "Python 3"
    },
    "language_info": {
      "name": "python"
    }
  },
  "cells": [
    {
      "cell_type": "markdown",
      "metadata": {
        "id": "view-in-github",
        "colab_type": "text"
      },
      "source": [
        "<a href=\"https://colab.research.google.com/github/addhyannigam/Student_performance_prediction/blob/main/Student_performance_prediction_by_Exact_inference.ipynb\" target=\"_parent\"><img src=\"https://colab.research.google.com/assets/colab-badge.svg\" alt=\"Open In Colab\"/></a>"
      ]
    },
    {
      "cell_type": "markdown",
      "source": [
        "we are building a **bayesian network to predict a student's performance** based on various factors such as intelligence, attendence, difficulty, grade. Performing an **exact inference** to predict the probability of good performance."
      ],
      "metadata": {
        "id": "7ovg33hCSNjs"
      }
    },
    {
      "cell_type": "code",
      "execution_count": 83,
      "metadata": {
        "colab": {
          "base_uri": "https://localhost:8080/"
        },
        "id": "0Urw7f-OISNy",
        "outputId": "ed766be8-f045-41a0-ce7a-733ca96e4394"
      },
      "outputs": [
        {
          "output_type": "stream",
          "name": "stdout",
          "text": [
            "Requirement already satisfied: pgmpy in /usr/local/lib/python3.10/dist-packages (0.1.26)\n",
            "Requirement already satisfied: networkx in /usr/local/lib/python3.10/dist-packages (from pgmpy) (3.4.1)\n",
            "Requirement already satisfied: numpy in /usr/local/lib/python3.10/dist-packages (from pgmpy) (1.26.4)\n",
            "Requirement already satisfied: scipy in /usr/local/lib/python3.10/dist-packages (from pgmpy) (1.13.1)\n",
            "Requirement already satisfied: scikit-learn in /usr/local/lib/python3.10/dist-packages (from pgmpy) (1.5.2)\n",
            "Requirement already satisfied: pandas in /usr/local/lib/python3.10/dist-packages (from pgmpy) (2.2.2)\n",
            "Requirement already satisfied: pyparsing in /usr/local/lib/python3.10/dist-packages (from pgmpy) (3.2.0)\n",
            "Requirement already satisfied: torch in /usr/local/lib/python3.10/dist-packages (from pgmpy) (2.4.1+cu121)\n",
            "Requirement already satisfied: statsmodels in /usr/local/lib/python3.10/dist-packages (from pgmpy) (0.14.4)\n",
            "Requirement already satisfied: tqdm in /usr/local/lib/python3.10/dist-packages (from pgmpy) (4.66.5)\n",
            "Requirement already satisfied: joblib in /usr/local/lib/python3.10/dist-packages (from pgmpy) (1.4.2)\n",
            "Requirement already satisfied: opt-einsum in /usr/local/lib/python3.10/dist-packages (from pgmpy) (3.4.0)\n",
            "Requirement already satisfied: xgboost in /usr/local/lib/python3.10/dist-packages (from pgmpy) (2.1.1)\n",
            "Requirement already satisfied: google-generativeai in /usr/local/lib/python3.10/dist-packages (from pgmpy) (0.7.2)\n",
            "Requirement already satisfied: google-ai-generativelanguage==0.6.6 in /usr/local/lib/python3.10/dist-packages (from google-generativeai->pgmpy) (0.6.6)\n",
            "Requirement already satisfied: google-api-core in /usr/local/lib/python3.10/dist-packages (from google-generativeai->pgmpy) (2.19.2)\n",
            "Requirement already satisfied: google-api-python-client in /usr/local/lib/python3.10/dist-packages (from google-generativeai->pgmpy) (2.137.0)\n",
            "Requirement already satisfied: google-auth>=2.15.0 in /usr/local/lib/python3.10/dist-packages (from google-generativeai->pgmpy) (2.27.0)\n",
            "Requirement already satisfied: protobuf in /usr/local/lib/python3.10/dist-packages (from google-generativeai->pgmpy) (3.20.3)\n",
            "Requirement already satisfied: pydantic in /usr/local/lib/python3.10/dist-packages (from google-generativeai->pgmpy) (2.9.2)\n",
            "Requirement already satisfied: typing-extensions in /usr/local/lib/python3.10/dist-packages (from google-generativeai->pgmpy) (4.12.2)\n",
            "Requirement already satisfied: proto-plus<2.0.0dev,>=1.22.3 in /usr/local/lib/python3.10/dist-packages (from google-ai-generativelanguage==0.6.6->google-generativeai->pgmpy) (1.24.0)\n",
            "Requirement already satisfied: python-dateutil>=2.8.2 in /usr/local/lib/python3.10/dist-packages (from pandas->pgmpy) (2.8.2)\n",
            "Requirement already satisfied: pytz>=2020.1 in /usr/local/lib/python3.10/dist-packages (from pandas->pgmpy) (2024.2)\n",
            "Requirement already satisfied: tzdata>=2022.7 in /usr/local/lib/python3.10/dist-packages (from pandas->pgmpy) (2024.2)\n",
            "Requirement already satisfied: threadpoolctl>=3.1.0 in /usr/local/lib/python3.10/dist-packages (from scikit-learn->pgmpy) (3.5.0)\n",
            "Requirement already satisfied: patsy>=0.5.6 in /usr/local/lib/python3.10/dist-packages (from statsmodels->pgmpy) (0.5.6)\n",
            "Requirement already satisfied: packaging>=21.3 in /usr/local/lib/python3.10/dist-packages (from statsmodels->pgmpy) (24.1)\n",
            "Requirement already satisfied: filelock in /usr/local/lib/python3.10/dist-packages (from torch->pgmpy) (3.16.1)\n",
            "Requirement already satisfied: sympy in /usr/local/lib/python3.10/dist-packages (from torch->pgmpy) (1.13.3)\n",
            "Requirement already satisfied: jinja2 in /usr/local/lib/python3.10/dist-packages (from torch->pgmpy) (3.1.4)\n",
            "Requirement already satisfied: fsspec in /usr/local/lib/python3.10/dist-packages (from torch->pgmpy) (2024.6.1)\n",
            "Requirement already satisfied: nvidia-nccl-cu12 in /usr/local/lib/python3.10/dist-packages (from xgboost->pgmpy) (2.23.4)\n",
            "Requirement already satisfied: googleapis-common-protos<2.0.dev0,>=1.56.2 in /usr/local/lib/python3.10/dist-packages (from google-api-core->google-generativeai->pgmpy) (1.65.0)\n",
            "Requirement already satisfied: requests<3.0.0.dev0,>=2.18.0 in /usr/local/lib/python3.10/dist-packages (from google-api-core->google-generativeai->pgmpy) (2.32.3)\n",
            "Requirement already satisfied: cachetools<6.0,>=2.0.0 in /usr/local/lib/python3.10/dist-packages (from google-auth>=2.15.0->google-generativeai->pgmpy) (5.5.0)\n",
            "Requirement already satisfied: pyasn1-modules>=0.2.1 in /usr/local/lib/python3.10/dist-packages (from google-auth>=2.15.0->google-generativeai->pgmpy) (0.4.1)\n",
            "Requirement already satisfied: rsa<5,>=3.1.4 in /usr/local/lib/python3.10/dist-packages (from google-auth>=2.15.0->google-generativeai->pgmpy) (4.9)\n",
            "Requirement already satisfied: six in /usr/local/lib/python3.10/dist-packages (from patsy>=0.5.6->statsmodels->pgmpy) (1.16.0)\n",
            "Requirement already satisfied: httplib2<1.dev0,>=0.19.0 in /usr/local/lib/python3.10/dist-packages (from google-api-python-client->google-generativeai->pgmpy) (0.22.0)\n",
            "Requirement already satisfied: google-auth-httplib2<1.0.0,>=0.2.0 in /usr/local/lib/python3.10/dist-packages (from google-api-python-client->google-generativeai->pgmpy) (0.2.0)\n",
            "Requirement already satisfied: uritemplate<5,>=3.0.1 in /usr/local/lib/python3.10/dist-packages (from google-api-python-client->google-generativeai->pgmpy) (4.1.1)\n",
            "Requirement already satisfied: MarkupSafe>=2.0 in /usr/local/lib/python3.10/dist-packages (from jinja2->torch->pgmpy) (3.0.1)\n",
            "Requirement already satisfied: annotated-types>=0.6.0 in /usr/local/lib/python3.10/dist-packages (from pydantic->google-generativeai->pgmpy) (0.7.0)\n",
            "Requirement already satisfied: pydantic-core==2.23.4 in /usr/local/lib/python3.10/dist-packages (from pydantic->google-generativeai->pgmpy) (2.23.4)\n",
            "Requirement already satisfied: mpmath<1.4,>=1.1.0 in /usr/local/lib/python3.10/dist-packages (from sympy->torch->pgmpy) (1.3.0)\n",
            "Requirement already satisfied: grpcio<2.0dev,>=1.33.2 in /usr/local/lib/python3.10/dist-packages (from google-api-core[grpc]!=2.0.*,!=2.1.*,!=2.10.*,!=2.2.*,!=2.3.*,!=2.4.*,!=2.5.*,!=2.6.*,!=2.7.*,!=2.8.*,!=2.9.*,<3.0.0dev,>=1.34.1->google-ai-generativelanguage==0.6.6->google-generativeai->pgmpy) (1.64.1)\n",
            "Requirement already satisfied: grpcio-status<2.0.dev0,>=1.33.2 in /usr/local/lib/python3.10/dist-packages (from google-api-core[grpc]!=2.0.*,!=2.1.*,!=2.10.*,!=2.2.*,!=2.3.*,!=2.4.*,!=2.5.*,!=2.6.*,!=2.7.*,!=2.8.*,!=2.9.*,<3.0.0dev,>=1.34.1->google-ai-generativelanguage==0.6.6->google-generativeai->pgmpy) (1.48.2)\n",
            "Requirement already satisfied: pyasn1<0.7.0,>=0.4.6 in /usr/local/lib/python3.10/dist-packages (from pyasn1-modules>=0.2.1->google-auth>=2.15.0->google-generativeai->pgmpy) (0.6.1)\n",
            "Requirement already satisfied: charset-normalizer<4,>=2 in /usr/local/lib/python3.10/dist-packages (from requests<3.0.0.dev0,>=2.18.0->google-api-core->google-generativeai->pgmpy) (3.4.0)\n",
            "Requirement already satisfied: idna<4,>=2.5 in /usr/local/lib/python3.10/dist-packages (from requests<3.0.0.dev0,>=2.18.0->google-api-core->google-generativeai->pgmpy) (3.10)\n",
            "Requirement already satisfied: urllib3<3,>=1.21.1 in /usr/local/lib/python3.10/dist-packages (from requests<3.0.0.dev0,>=2.18.0->google-api-core->google-generativeai->pgmpy) (2.2.3)\n",
            "Requirement already satisfied: certifi>=2017.4.17 in /usr/local/lib/python3.10/dist-packages (from requests<3.0.0.dev0,>=2.18.0->google-api-core->google-generativeai->pgmpy) (2024.8.30)\n"
          ]
        }
      ],
      "source": [
        "pip install pgmpy"
      ]
    },
    {
      "cell_type": "markdown",
      "source": [
        "**pgmpy** is a python library for probabilistic graphical model, specially used to work with bayesian networks, markov models, and other graphical model."
      ],
      "metadata": {
        "id": "oGv9miPeTPFY"
      }
    },
    {
      "cell_type": "code",
      "source": [
        "from pgmpy.models import BayesianNetwork\n",
        "from pgmpy.factors.discrete import TabularCPD\n",
        "from pgmpy.inference import VariableElimination"
      ],
      "metadata": {
        "id": "XBVvfEF8IkXb"
      },
      "execution_count": 61,
      "outputs": []
    },
    {
      "cell_type": "markdown",
      "source": [
        "We are importing the neccesary modules from pgmpy library laike BayesianNetwork, TabularCPD, VariableElimination"
      ],
      "metadata": {
        "id": "6lYnDjRdTu-O"
      }
    },
    {
      "cell_type": "code",
      "source": [
        "model = BayesianNetwork([('Intelligence','Grade'),\n",
        "                         ('Difficulty','Grade'),\n",
        "                         ('Attendence','Performance'),\n",
        "                         ('Grade','Performance')])"
      ],
      "metadata": {
        "id": "_pLAjO1CJBek"
      },
      "execution_count": 62,
      "outputs": []
    },
    {
      "cell_type": "markdown",
      "source": [
        "Here, We create a Bayesian network and define its structure. In our case, there are 5 variables : (Intelligence, Difficulty, Attendence, Grade, Performance)\n",
        "\n",
        "\n",
        "*   Intelligence and Difficulty influence the Grade.\n",
        "*   Grade and Attendance influence Performance.\n",
        "\n"
      ],
      "metadata": {
        "id": "JeWTed3QWPg6"
      }
    },
    {
      "cell_type": "code",
      "source": [
        "cpd_intelligence = TabularCPD(variable='Intelligence', variable_card=2, values=[[0.3], [0.7]])"
      ],
      "metadata": {
        "id": "keh8ztI_JYvQ"
      },
      "execution_count": 63,
      "outputs": []
    },
    {
      "cell_type": "markdown",
      "source": [
        "We define the prior probability for intelligence, the variable is binary (0=not intelligent, 1=intelligent)"
      ],
      "metadata": {
        "id": "y1pkuZPCXiZR"
      }
    },
    {
      "cell_type": "code",
      "source": [
        "print(cpd_intelligence)"
      ],
      "metadata": {
        "colab": {
          "base_uri": "https://localhost:8080/"
        },
        "id": "tuPT76mKLDSs",
        "outputId": "08a21e04-7129-4ed3-9205-b4981a4f0260"
      },
      "execution_count": 64,
      "outputs": [
        {
          "output_type": "stream",
          "name": "stdout",
          "text": [
            "+-----------------+-----+\n",
            "| Intelligence(0) | 0.3 |\n",
            "+-----------------+-----+\n",
            "| Intelligence(1) | 0.7 |\n",
            "+-----------------+-----+\n"
          ]
        }
      ]
    },
    {
      "cell_type": "markdown",
      "source": [
        "**CPD for Intelligence.**"
      ],
      "metadata": {
        "id": "CCM8n1aNYSPj"
      }
    },
    {
      "cell_type": "code",
      "source": [
        "cpd_difficulty = TabularCPD(variable='Difficulty', variable_card=2, values=[[0.7], [0.3]])"
      ],
      "metadata": {
        "id": "hKMOhfC9Pw2s"
      },
      "execution_count": 65,
      "outputs": []
    },
    {
      "cell_type": "markdown",
      "source": [
        "We define the prior probability for Difficulty, the variable is binary (0=not difficult, 1=difficult)"
      ],
      "metadata": {
        "id": "lUMDA5XcYaSy"
      }
    },
    {
      "cell_type": "code",
      "source": [
        "print(cpd_difficulty)"
      ],
      "metadata": {
        "colab": {
          "base_uri": "https://localhost:8080/"
        },
        "id": "yFw3S6I_LmS8",
        "outputId": "e7ffcd39-8aa4-42bf-8636-6a7cba75f77d"
      },
      "execution_count": 66,
      "outputs": [
        {
          "output_type": "stream",
          "name": "stdout",
          "text": [
            "+---------------+-----+\n",
            "| Difficulty(0) | 0.7 |\n",
            "+---------------+-----+\n",
            "| Difficulty(1) | 0.3 |\n",
            "+---------------+-----+\n"
          ]
        }
      ]
    },
    {
      "cell_type": "markdown",
      "source": [
        "**CPD for Difficulty**"
      ],
      "metadata": {
        "id": "SVVR8wdEYxZU"
      }
    },
    {
      "cell_type": "code",
      "source": [
        "cpd_attendence = TabularCPD(variable='Attendence', variable_card=2, values=[[0.2], [0.8]])"
      ],
      "metadata": {
        "id": "fH0VEZDuP5q0"
      },
      "execution_count": 67,
      "outputs": []
    },
    {
      "cell_type": "markdown",
      "source": [
        "We define the prior probability for attendence, the variable is binary (0=not attended, 1=attended)"
      ],
      "metadata": {
        "id": "bpiucDKVY4ea"
      }
    },
    {
      "cell_type": "code",
      "source": [
        "print(cpd_attendence)"
      ],
      "metadata": {
        "colab": {
          "base_uri": "https://localhost:8080/"
        },
        "id": "8_lTGQZXLzNw",
        "outputId": "d5b3f831-84fa-4d1d-8cf0-dc3fd06d0e62"
      },
      "execution_count": 68,
      "outputs": [
        {
          "output_type": "stream",
          "name": "stdout",
          "text": [
            "+---------------+-----+\n",
            "| Attendence(0) | 0.2 |\n",
            "+---------------+-----+\n",
            "| Attendence(1) | 0.8 |\n",
            "+---------------+-----+\n"
          ]
        }
      ]
    },
    {
      "cell_type": "markdown",
      "source": [
        "**CPD for Attendence**"
      ],
      "metadata": {
        "id": "EabbgjnsZDz4"
      }
    },
    {
      "cell_type": "code",
      "source": [
        "cpd_grade = TabularCPD(variable='Grade', variable_card=3,\n",
        "                       values=[[0.8,0.5,0.9,0.6],\n",
        "                               [0.15,0.3,0.08,0.3],\n",
        "                               [0.05,0.2,0.02,0.1]],\n",
        "                       evidence=['Intelligence','Difficulty'], evidence_card=[2,2])"
      ],
      "metadata": {
        "id": "mUPgSOohJlHW"
      },
      "execution_count": 69,
      "outputs": []
    },
    {
      "cell_type": "markdown",
      "source": [
        "The Grade depends on both Intelligence and Difficulty.\n",
        "variable_card=3: This means Grade can take 3 values (A, B, C).\n",
        "evidence=['Intelligence', 'Difficulty']: The Grade depends on two parent nodes: Intelligence and Difficulty.\n",
        "evidence_card=[2, 2]: Both Intelligence and Difficulty are binary variables (True/False), so they each have 2 possible values."
      ],
      "metadata": {
        "id": "jQm74furZb7X"
      }
    },
    {
      "cell_type": "code",
      "source": [
        "print(cpd_grade)"
      ],
      "metadata": {
        "colab": {
          "base_uri": "https://localhost:8080/"
        },
        "id": "ItbQkhvCKq7n",
        "outputId": "b66a2932-81b1-4300-b36e-3d607decedcd"
      },
      "execution_count": 70,
      "outputs": [
        {
          "output_type": "stream",
          "name": "stdout",
          "text": [
            "+--------------+-----------------+-----------------+-----------------+-----------------+\n",
            "| Intelligence | Intelligence(0) | Intelligence(0) | Intelligence(1) | Intelligence(1) |\n",
            "+--------------+-----------------+-----------------+-----------------+-----------------+\n",
            "| Difficulty   | Difficulty(0)   | Difficulty(1)   | Difficulty(0)   | Difficulty(1)   |\n",
            "+--------------+-----------------+-----------------+-----------------+-----------------+\n",
            "| Grade(0)     | 0.8             | 0.5             | 0.9             | 0.6             |\n",
            "+--------------+-----------------+-----------------+-----------------+-----------------+\n",
            "| Grade(1)     | 0.15            | 0.3             | 0.08            | 0.3             |\n",
            "+--------------+-----------------+-----------------+-----------------+-----------------+\n",
            "| Grade(2)     | 0.05            | 0.2             | 0.02            | 0.1             |\n",
            "+--------------+-----------------+-----------------+-----------------+-----------------+\n"
          ]
        }
      ]
    },
    {
      "cell_type": "markdown",
      "source": [
        "**CPD for Grade**"
      ],
      "metadata": {
        "id": "0LupSC3fZlPY"
      }
    },
    {
      "cell_type": "code",
      "source": [
        "cpd_performance = TabularCPD(variable='Performance', variable_card=2,\n",
        "                             values=[[0.1, 0.3, 0.6, 0.2, 0.5, 0.9],  # Performance=False\n",
        "                                     [0.9, 0.7, 0.4, 0.8, 0.5, 0.1]], # Performance=True\n",
        "                             evidence=['Attendence', 'Grade'], evidence_card=[2, 3])"
      ],
      "metadata": {
        "id": "ne6e5EHTK3KU"
      },
      "execution_count": 71,
      "outputs": []
    },
    {
      "cell_type": "markdown",
      "source": [
        "The Performance depends on Attendance and Grade.\n",
        "variable_card=2: Performance is binary (False or True).\n",
        "evidence=['Attendance', 'Grade']: Performance depends on both Attendance and Grade.\n",
        "evidence_card=[2, 3]: Attendance is binary, while Grade has 3 possible values (A, B, C)."
      ],
      "metadata": {
        "id": "JwE6T1E0ZriO"
      }
    },
    {
      "cell_type": "code",
      "source": [
        "print(cpd_performance)"
      ],
      "metadata": {
        "colab": {
          "base_uri": "https://localhost:8080/"
        },
        "id": "nPMrBChILP48",
        "outputId": "a1f14656-e704-4fd5-b97e-472d97d86c4c"
      },
      "execution_count": 72,
      "outputs": [
        {
          "output_type": "stream",
          "name": "stdout",
          "text": [
            "+----------------+---------------+-----+---------------+---------------+\n",
            "| Attendence     | Attendence(0) | ... | Attendence(1) | Attendence(1) |\n",
            "+----------------+---------------+-----+---------------+---------------+\n",
            "| Grade          | Grade(0)      | ... | Grade(1)      | Grade(2)      |\n",
            "+----------------+---------------+-----+---------------+---------------+\n",
            "| Performance(0) | 0.1           | ... | 0.5           | 0.9           |\n",
            "+----------------+---------------+-----+---------------+---------------+\n",
            "| Performance(1) | 0.9           | ... | 0.5           | 0.1           |\n",
            "+----------------+---------------+-----+---------------+---------------+\n"
          ]
        }
      ]
    },
    {
      "cell_type": "markdown",
      "source": [
        "**CPD for Performance**"
      ],
      "metadata": {
        "id": "cug5WZYyZ1dz"
      }
    },
    {
      "cell_type": "code",
      "source": [
        "model.add_cpds(cpd_intelligence, cpd_difficulty, cpd_attendence, cpd_grade, cpd_performance)"
      ],
      "metadata": {
        "colab": {
          "base_uri": "https://localhost:8080/"
        },
        "id": "GMChnRS-MOfK",
        "outputId": "c624d8d0-75e9-4d64-f53d-44142b042bc0"
      },
      "execution_count": 84,
      "outputs": [
        {
          "output_type": "stream",
          "name": "stderr",
          "text": [
            "WARNING:pgmpy:Replacing existing CPD for Intelligence\n",
            "WARNING:pgmpy:Replacing existing CPD for Difficulty\n",
            "WARNING:pgmpy:Replacing existing CPD for Attendence\n",
            "WARNING:pgmpy:Replacing existing CPD for Grade\n",
            "WARNING:pgmpy:Replacing existing CPD for Performance\n"
          ]
        }
      ]
    },
    {
      "cell_type": "markdown",
      "source": [
        "This line will add all the Conditional Probability Distribution (CPD) to the Bayesian Network Model."
      ],
      "metadata": {
        "id": "dODBIJGQaDMs"
      }
    },
    {
      "cell_type": "code",
      "source": [
        "assert model.check_model()"
      ],
      "metadata": {
        "id": "-HV4hdHJNvbt"
      },
      "execution_count": 85,
      "outputs": []
    },
    {
      "cell_type": "markdown",
      "source": [
        "This line will check if the model structure and the CPD's are consistent (sum of all the probability is 1)."
      ],
      "metadata": {
        "id": "xGJJwcikaZYi"
      }
    },
    {
      "cell_type": "code",
      "source": [
        "infer = VariableElimination(model)"
      ],
      "metadata": {
        "id": "STE_RL9pQV9e"
      },
      "execution_count": 86,
      "outputs": []
    },
    {
      "cell_type": "markdown",
      "source": [
        "Here, we create an infer object using the **VariableElimination** algorithm to performs exact inference on the Bayesian Network, computing the exact probabilities based on the observed evidence."
      ],
      "metadata": {
        "id": "RA4xCPK5aqz2"
      }
    },
    {
      "cell_type": "code",
      "source": [
        "posterior = infer.query(variables=['Performance'], evidence={'Difficulty': 1, 'Attendence': 0})"
      ],
      "metadata": {
        "id": "61f-9NO0RTTN"
      },
      "execution_count": 87,
      "outputs": []
    },
    {
      "cell_type": "markdown",
      "source": [
        "This line queries the posterior probability of the Performance variable given the observed evidence:\n",
        "\n",
        "* Difficulty=1 (the exam is difficult)\n",
        "* Attendance=0 (the student did not attend classes)\n"
      ],
      "metadata": {
        "id": "Zggw7_IEbHA_"
      }
    },
    {
      "cell_type": "code",
      "source": [
        "print(posterior)"
      ],
      "metadata": {
        "colab": {
          "base_uri": "https://localhost:8080/"
        },
        "id": "jcC8KX9aRYd4",
        "outputId": "8fd0a64a-bbb7-42b4-e736-0065e8f4b07b"
      },
      "execution_count": 88,
      "outputs": [
        {
          "output_type": "stream",
          "name": "stdout",
          "text": [
            "+----------------+--------------------+\n",
            "| Performance    |   phi(Performance) |\n",
            "+================+====================+\n",
            "| Performance(0) |             0.2250 |\n",
            "+----------------+--------------------+\n",
            "| Performance(1) |             0.7750 |\n",
            "+----------------+--------------------+\n"
          ]
        }
      ]
    },
    {
      "cell_type": "markdown",
      "source": [
        "This line will print the resulting Probabilities for performance."
      ],
      "metadata": {
        "id": "JiNdrCpPbRC0"
      }
    }
  ]
}